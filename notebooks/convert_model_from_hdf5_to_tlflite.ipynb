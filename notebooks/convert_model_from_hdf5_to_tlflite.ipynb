{
  "nbformat": 4,
  "nbformat_minor": 0,
  "metadata": {
    "colab": {
      "private_outputs": true,
      "provenance": []
    },
    "kernelspec": {
      "name": "python3",
      "display_name": "Python 3"
    },
    "language_info": {
      "name": "python"
    }
  },
  "cells": [
    {
      "cell_type": "code",
      "execution_count": null,
      "metadata": {
        "id": "aQxIHJ8KQ8es"
      },
      "outputs": [],
      "source": [
        "from google.colab import drive\n",
        "drive.mount('/content/drive')"
      ]
    },
    {
      "cell_type": "code",
      "source": [
        "import zipfile\n",
        "import os\n",
        "\n",
        "# Chemin du fichier zip dans Google Drive\n",
        "zip_path = '/content/drive/My Drive/models.zip'\n",
        "\n",
        "# Décompressez ici\n",
        "with zipfile.ZipFile(zip_path, 'r') as zip_ref:\n",
        "    zip_ref.extractall('/content/models')\n",
        "\n",
        "# Vérifiez si le fichier est décompressé\n",
        "if os.path.exists('/content/models/unet.hdf5'):\n",
        "    print('Fichier unet.hdf5 extrait avec succès.')"
      ],
      "metadata": {
        "id": "cBN6VA88RsoR"
      },
      "execution_count": null,
      "outputs": []
    },
    {
      "cell_type": "code",
      "source": [
        "import tensorflow as tf\n",
        "\n",
        "model_path = \"/content/models/models/unet.hdf5\"\n",
        "model = tf.keras.models.load_model(model_path, custom_objects={'dice_loss': dice_loss,'dice_coef': dice_coef,'iou_coef':iou_coef})"
      ],
      "metadata": {
        "id": "G1_UgGqYxIbe"
      },
      "execution_count": null,
      "outputs": []
    },
    {
      "cell_type": "code",
      "source": [
        "# function to create dice coefficient\n",
        "def dice_coef(y_true, y_pred, smooth=100):\n",
        "    y_true_flatten = K.flatten(y_true)\n",
        "    y_pred_flatten = K.flatten(y_pred)\n",
        "\n",
        "    intersection = K.sum(y_true_flatten * y_pred_flatten)\n",
        "    union = K.sum(y_true_flatten) + K.sum(y_pred_flatten)\n",
        "    return (2 * intersection + smooth) / (union + smooth)\n",
        "\n",
        "# function to create dice loss\n",
        "def dice_loss(y_true, y_pred, smooth=100):\n",
        "    return -dice_coef(y_true, y_pred, smooth)\n",
        "\n",
        "# function to create iou coefficient\n",
        "def iou_coef(y_true, y_pred, smooth=100):\n",
        "    intersection = K.sum(y_true * y_pred)\n",
        "    sum = K.sum(y_true + y_pred)\n",
        "    iou = (intersection + smooth) / (sum - intersection + smooth)\n",
        "    return iou"
      ],
      "metadata": {
        "id": "2hZ2UVx7xBrW"
      },
      "execution_count": null,
      "outputs": []
    },
    {
      "cell_type": "code",
      "source": [
        "# Convertir le modèle en TensorFlow Lite\n",
        "converter = tf.lite.TFLiteConverter.from_keras_model(model)\n",
        "converter.optimizations = [tf.lite.Optimize.DEFAULT]\n",
        "tflite_model = converter.convert()\n",
        "# Enregistrer le modèle converti\n",
        "tflite_model_path = '/content/models/model.tflite'  # Changez ce chemin si nécessaire\n",
        "with open(tflite_model_path, 'wb') as f:\n",
        "    f.write(tflite_model)\n"
      ],
      "metadata": {
        "id": "oc5fHs5lSbgm"
      },
      "execution_count": null,
      "outputs": []
    },
    {
      "cell_type": "code",
      "source": [],
      "metadata": {
        "id": "Vryi14T4SbWm"
      },
      "execution_count": null,
      "outputs": []
    },
    {
      "cell_type": "code",
      "source": [],
      "metadata": {
        "id": "c_05WnKpSbMv"
      },
      "execution_count": null,
      "outputs": []
    }
  ]
}